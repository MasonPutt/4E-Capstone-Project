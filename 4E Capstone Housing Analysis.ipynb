{
 "cells": [
  {
   "cell_type": "code",
   "execution_count": 19,
   "metadata": {},
   "outputs": [
    {
     "data": {
      "text/html": [
       "<script>  \n",
       "code_show=true; \n",
       "function code_toggle() {\n",
       "  if (code_show){\n",
       "    $('div.input').hide();\n",
       "  } else {\n",
       "    $('div.input').show();\n",
       "  }\n",
       "  code_show = !code_show\n",
       "}  \n",
       "$( document ).ready(code_toggle);\n",
       "</script>\n",
       "  <form action=\"javascript:code_toggle()\">\n",
       "    <input type=\"submit\" value=\"Click to toggle on/off the raw code.\">\n",
       " </form>"
      ]
     },
     "metadata": {},
     "output_type": "display_data"
    }
   ],
   "source": [
    "library(IRdisplay)\n",
    "\n",
    "display_html(\n",
    "'<script>  \n",
    "code_show=true; \n",
    "function code_toggle() {\n",
    "  if (code_show){\n",
    "    $(\\'div.input\\').hide();\n",
    "  } else {\n",
    "    $(\\'div.input\\').show();\n",
    "  }\n",
    "  code_show = !code_show\n",
    "}  \n",
    "$( document ).ready(code_toggle);\n",
    "</script>\n",
    "  <form action=\"javascript:code_toggle()\">\n",
    "    <input type=\"submit\" value=\"Click to toggle on/off the raw code.\">\n",
    " </form>'\n",
    ")"
   ]
  },
  {
   "cell_type": "markdown",
   "metadata": {},
   "source": [
    "# US Affordable Housing Shortage"
   ]
  },
  {
   "cell_type": "markdown",
   "metadata": {},
   "source": [
    "### Project Overview"
   ]
  },
  {
   "cell_type": "code",
   "execution_count": null,
   "metadata": {},
   "outputs": [],
   "source": []
  },
  {
   "cell_type": "markdown",
   "metadata": {},
   "source": [
    "### Data Description"
   ]
  },
  {
   "cell_type": "code",
   "execution_count": 1,
   "metadata": {},
   "outputs": [],
   "source": [
    "alldata1yr <-read.csv(\"https://raw.githubusercontent.com/MasonPutt/4E-Capstone-Project/main/alldata1yr.csv\")\n",
    "alldata5yr <-read.csv(\"https://raw.githubusercontent.com/MasonPutt/4E-Capstone-Project/main/alldata5yr.csv\")"
   ]
  },
  {
   "cell_type": "markdown",
   "metadata": {},
   "source": [
    "### Modeling"
   ]
  },
  {
   "cell_type": "code",
   "execution_count": 23,
   "metadata": {},
   "outputs": [
    {
     "name": "stdout",
     "output_type": "stream",
     "text": [
      "\n",
      "==============================================================\n",
      "                                   Dependent variable:        \n",
      "                           -----------------------------------\n",
      "                                       evict_rate             \n",
      "                                  (1)               (2)       \n",
      "--------------------------------------------------------------\n",
      "r_totalgap_rate                0.079***          0.027***     \n",
      "                                (0.009)           (0.008)     \n",
      "                                                              \n",
      "unemp_rate                     0.098***          0.099***     \n",
      "                                (0.022)           (0.021)     \n",
      "                                                              \n",
      "metro                                            0.012***     \n",
      "                                                  (0.001)     \n",
      "                                                              \n",
      "low_educ                                         -0.004***    \n",
      "                                                  (0.001)     \n",
      "                                                              \n",
      "r_totalgap_rate:unemp_rate      -0.177             0.167      \n",
      "                                (0.116)           (0.111)     \n",
      "                                                              \n",
      "--------------------------------------------------------------\n",
      "Observations                     5,214             5,214      \n",
      "R2                               0.095             0.185      \n",
      "Adjusted R2                      0.094             0.184      \n",
      "Residual Std. Error        0.018 (df = 5209) 0.017 (df = 5207)\n",
      "==============================================================\n",
      "Note:                              *p<0.1; **p<0.05; ***p<0.01\n"
     ]
    }
   ],
   "source": [
    "library(lfe)\n",
    "library(stargazer)\n",
    "base <- felm(evict_rate ~ r_totalgap_rate+unemp_rate+r_totalgap_rate*unemp_rate | period, data=alldata5yr)\n",
    "base_controls <- felm(evict_rate ~ r_totalgap_rate+unemp_rate+r_totalgap_rate*unemp_rate+metro+low_educ| period, data=alldata5yr)\n",
    "suppressMessages(stargazer(base, base_controls, type=\"text\"))"
   ]
  },
  {
   "cell_type": "markdown",
   "metadata": {},
   "source": [
    "### Model Evaluation"
   ]
  },
  {
   "cell_type": "code",
   "execution_count": null,
   "metadata": {},
   "outputs": [],
   "source": []
  },
  {
   "cell_type": "markdown",
   "metadata": {},
   "source": [
    "### Data Visualization"
   ]
  },
  {
   "cell_type": "code",
   "execution_count": null,
   "metadata": {},
   "outputs": [],
   "source": []
  }
 ],
 "metadata": {
  "kernelspec": {
   "display_name": "R 4.0",
   "language": "R",
   "name": "ir40"
  },
  "language_info": {
   "codemirror_mode": "r",
   "file_extension": ".r",
   "mimetype": "text/x-r-source",
   "name": "R",
   "pygments_lexer": "r",
   "version": "4.0.3"
  }
 },
 "nbformat": 4,
 "nbformat_minor": 4
}
