{
 "cells": [
  {
   "cell_type": "code",
   "execution_count": 19,
   "metadata": {},
   "outputs": [
    {
     "data": {
      "text/html": [
       "<script>  \n",
       "code_show=true; \n",
       "function code_toggle() {\n",
       "  if (code_show){\n",
       "    $('div.input').hide();\n",
       "  } else {\n",
       "    $('div.input').show();\n",
       "  }\n",
       "  code_show = !code_show\n",
       "}  \n",
       "$( document ).ready(code_toggle);\n",
       "</script>\n",
       "  <form action=\"javascript:code_toggle()\">\n",
       "    <input type=\"submit\" value=\"Click to toggle on/off the raw code.\">\n",
       " </form>"
      ]
     },
     "metadata": {},
     "output_type": "display_data"
    }
   ],
   "source": [
    "library(IRdisplay)\n",
    "\n",
    "display_html(\n",
    "'<script>  \n",
    "code_show=true; \n",
    "function code_toggle() {\n",
    "  if (code_show){\n",
    "    $(\\'div.input\\').hide();\n",
    "  } else {\n",
    "    $(\\'div.input\\').show();\n",
    "  }\n",
    "  code_show = !code_show\n",
    "}  \n",
    "$( document ).ready(code_toggle);\n",
    "</script>\n",
    "  <form action=\"javascript:code_toggle()\">\n",
    "    <input type=\"submit\" value=\"Click to toggle on/off the raw code.\">\n",
    " </form>'\n",
    ")"
   ]
  },
  {
   "cell_type": "markdown",
   "metadata": {},
   "source": [
    "# US Affordable Housing Shortage"
   ]
  },
  {
   "cell_type": "markdown",
   "metadata": {},
   "source": [
    "### Project Overview"
   ]
  },
  {
   "cell_type": "markdown",
   "metadata": {},
   "source": [
    "(Describe project scope, goals, context, methods, brief results overview)"
   ]
  },
  {
   "cell_type": "markdown",
   "metadata": {},
   "source": [
    "### Data Description"
   ]
  },
  {
   "cell_type": "markdown",
   "metadata": {},
   "source": [
    "(Describe data sources, links to data & dict on GitHub, describe differences in datasets)"
   ]
  },
  {
   "cell_type": "code",
   "execution_count": 18,
   "metadata": {},
   "outputs": [
    {
     "data": {
      "text/html": [
       "<table class=\"dataframe\">\n",
       "<caption>A data.frame: 10 × 10</caption>\n",
       "<thead>\n",
       "\t<tr><th></th><th scope=col>county</th><th scope=col>state</th><th scope=col>county_fips</th><th scope=col>year</th><th scope=col>unemp_rate</th><th scope=col>renter_rate</th><th scope=col>evict_rate</th><th scope=col>nonwhite_rate</th><th scope=col>r_totalgap</th><th scope=col>r_totalgap_rate</th></tr>\n",
       "\t<tr><th></th><th scope=col>&lt;chr&gt;</th><th scope=col>&lt;chr&gt;</th><th scope=col>&lt;int&gt;</th><th scope=col>&lt;int&gt;</th><th scope=col>&lt;dbl&gt;</th><th scope=col>&lt;dbl&gt;</th><th scope=col>&lt;dbl&gt;</th><th scope=col>&lt;dbl&gt;</th><th scope=col>&lt;int&gt;</th><th scope=col>&lt;dbl&gt;</th></tr>\n",
       "</thead>\n",
       "<tbody>\n",
       "\t<tr><th scope=row>1</th><td>Abbeville County</td><td>South Carolina</td><td>45001</td><td>2008</td><td>0.0808</td><td>0.2232</td><td>    NA</td><td>0.3071</td><td>340</td><td>0.1542</td></tr>\n",
       "\t<tr><th scope=row>2</th><td>Abbeville County</td><td>South Carolina</td><td>45001</td><td>2009</td><td>0.1417</td><td>0.2232</td><td>    NA</td><td>0.3071</td><td>340</td><td>0.1542</td></tr>\n",
       "\t<tr><th scope=row>3</th><td>Abbeville County</td><td>South Carolina</td><td>45001</td><td>2010</td><td>0.1360</td><td>0.2232</td><td>0.0231</td><td>0.3090</td><td>340</td><td>0.1542</td></tr>\n",
       "\t<tr><th scope=row>4</th><td>Abbeville County</td><td>South Carolina</td><td>45001</td><td>2011</td><td>0.1246</td><td>0.2232</td><td>0.0041</td><td>0.3108</td><td>340</td><td>0.1542</td></tr>\n",
       "\t<tr><th scope=row>5</th><td>Abbeville County</td><td>South Carolina</td><td>45001</td><td>2012</td><td>0.1062</td><td>0.2232</td><td>0.0014</td><td>0.3108</td><td>340</td><td>0.1542</td></tr>\n",
       "\t<tr><th scope=row>6</th><td>Abbeville County</td><td>South Carolina</td><td>45001</td><td>2013</td><td>0.0951</td><td>0.2295</td><td>0.0278</td><td>0.3108</td><td>630</td><td>0.2923</td></tr>\n",
       "\t<tr><th scope=row>7</th><td>Abbeville County</td><td>South Carolina</td><td>45001</td><td>2014</td><td>0.0773</td><td>0.2295</td><td>0.0260</td><td>0.3108</td><td>630</td><td>0.2923</td></tr>\n",
       "\t<tr><th scope=row>8</th><td>Abbeville County</td><td>South Carolina</td><td>45001</td><td>2015</td><td>0.0690</td><td>0.2295</td><td>0.0376</td><td>0.3108</td><td>630</td><td>0.2923</td></tr>\n",
       "\t<tr><th scope=row>9</th><td>Abbeville County</td><td>South Carolina</td><td>45001</td><td>2016</td><td>0.0550</td><td>0.2295</td><td>0.0756</td><td>0.3108</td><td>630</td><td>0.2923</td></tr>\n",
       "\t<tr><th scope=row>10</th><td>Abbeville County</td><td>South Carolina</td><td>45001</td><td>2017</td><td>0.0460</td><td>0.2295</td><td>    NA</td><td>0.3108</td><td>630</td><td>0.2923</td></tr>\n",
       "</tbody>\n",
       "</table>\n"
      ],
      "text/latex": [
       "A data.frame: 10 × 10\n",
       "\\begin{tabular}{r|llllllllll}\n",
       "  & county & state & county\\_fips & year & unemp\\_rate & renter\\_rate & evict\\_rate & nonwhite\\_rate & r\\_totalgap & r\\_totalgap\\_rate\\\\\n",
       "  & <chr> & <chr> & <int> & <int> & <dbl> & <dbl> & <dbl> & <dbl> & <int> & <dbl>\\\\\n",
       "\\hline\n",
       "\t1 & Abbeville County & South Carolina & 45001 & 2008 & 0.0808 & 0.2232 &     NA & 0.3071 & 340 & 0.1542\\\\\n",
       "\t2 & Abbeville County & South Carolina & 45001 & 2009 & 0.1417 & 0.2232 &     NA & 0.3071 & 340 & 0.1542\\\\\n",
       "\t3 & Abbeville County & South Carolina & 45001 & 2010 & 0.1360 & 0.2232 & 0.0231 & 0.3090 & 340 & 0.1542\\\\\n",
       "\t4 & Abbeville County & South Carolina & 45001 & 2011 & 0.1246 & 0.2232 & 0.0041 & 0.3108 & 340 & 0.1542\\\\\n",
       "\t5 & Abbeville County & South Carolina & 45001 & 2012 & 0.1062 & 0.2232 & 0.0014 & 0.3108 & 340 & 0.1542\\\\\n",
       "\t6 & Abbeville County & South Carolina & 45001 & 2013 & 0.0951 & 0.2295 & 0.0278 & 0.3108 & 630 & 0.2923\\\\\n",
       "\t7 & Abbeville County & South Carolina & 45001 & 2014 & 0.0773 & 0.2295 & 0.0260 & 0.3108 & 630 & 0.2923\\\\\n",
       "\t8 & Abbeville County & South Carolina & 45001 & 2015 & 0.0690 & 0.2295 & 0.0376 & 0.3108 & 630 & 0.2923\\\\\n",
       "\t9 & Abbeville County & South Carolina & 45001 & 2016 & 0.0550 & 0.2295 & 0.0756 & 0.3108 & 630 & 0.2923\\\\\n",
       "\t10 & Abbeville County & South Carolina & 45001 & 2017 & 0.0460 & 0.2295 &     NA & 0.3108 & 630 & 0.2923\\\\\n",
       "\\end{tabular}\n"
      ],
      "text/markdown": [
       "\n",
       "A data.frame: 10 × 10\n",
       "\n",
       "| <!--/--> | county &lt;chr&gt; | state &lt;chr&gt; | county_fips &lt;int&gt; | year &lt;int&gt; | unemp_rate &lt;dbl&gt; | renter_rate &lt;dbl&gt; | evict_rate &lt;dbl&gt; | nonwhite_rate &lt;dbl&gt; | r_totalgap &lt;int&gt; | r_totalgap_rate &lt;dbl&gt; |\n",
       "|---|---|---|---|---|---|---|---|---|---|---|\n",
       "| 1 | Abbeville County | South Carolina | 45001 | 2008 | 0.0808 | 0.2232 |     NA | 0.3071 | 340 | 0.1542 |\n",
       "| 2 | Abbeville County | South Carolina | 45001 | 2009 | 0.1417 | 0.2232 |     NA | 0.3071 | 340 | 0.1542 |\n",
       "| 3 | Abbeville County | South Carolina | 45001 | 2010 | 0.1360 | 0.2232 | 0.0231 | 0.3090 | 340 | 0.1542 |\n",
       "| 4 | Abbeville County | South Carolina | 45001 | 2011 | 0.1246 | 0.2232 | 0.0041 | 0.3108 | 340 | 0.1542 |\n",
       "| 5 | Abbeville County | South Carolina | 45001 | 2012 | 0.1062 | 0.2232 | 0.0014 | 0.3108 | 340 | 0.1542 |\n",
       "| 6 | Abbeville County | South Carolina | 45001 | 2013 | 0.0951 | 0.2295 | 0.0278 | 0.3108 | 630 | 0.2923 |\n",
       "| 7 | Abbeville County | South Carolina | 45001 | 2014 | 0.0773 | 0.2295 | 0.0260 | 0.3108 | 630 | 0.2923 |\n",
       "| 8 | Abbeville County | South Carolina | 45001 | 2015 | 0.0690 | 0.2295 | 0.0376 | 0.3108 | 630 | 0.2923 |\n",
       "| 9 | Abbeville County | South Carolina | 45001 | 2016 | 0.0550 | 0.2295 | 0.0756 | 0.3108 | 630 | 0.2923 |\n",
       "| 10 | Abbeville County | South Carolina | 45001 | 2017 | 0.0460 | 0.2295 |     NA | 0.3108 | 630 | 0.2923 |\n",
       "\n"
      ],
      "text/plain": [
       "   county           state          county_fips year unemp_rate renter_rate\n",
       "1  Abbeville County South Carolina 45001       2008 0.0808     0.2232     \n",
       "2  Abbeville County South Carolina 45001       2009 0.1417     0.2232     \n",
       "3  Abbeville County South Carolina 45001       2010 0.1360     0.2232     \n",
       "4  Abbeville County South Carolina 45001       2011 0.1246     0.2232     \n",
       "5  Abbeville County South Carolina 45001       2012 0.1062     0.2232     \n",
       "6  Abbeville County South Carolina 45001       2013 0.0951     0.2295     \n",
       "7  Abbeville County South Carolina 45001       2014 0.0773     0.2295     \n",
       "8  Abbeville County South Carolina 45001       2015 0.0690     0.2295     \n",
       "9  Abbeville County South Carolina 45001       2016 0.0550     0.2295     \n",
       "10 Abbeville County South Carolina 45001       2017 0.0460     0.2295     \n",
       "   evict_rate nonwhite_rate r_totalgap r_totalgap_rate\n",
       "1      NA     0.3071        340        0.1542         \n",
       "2      NA     0.3071        340        0.1542         \n",
       "3  0.0231     0.3090        340        0.1542         \n",
       "4  0.0041     0.3108        340        0.1542         \n",
       "5  0.0014     0.3108        340        0.1542         \n",
       "6  0.0278     0.3108        630        0.2923         \n",
       "7  0.0260     0.3108        630        0.2923         \n",
       "8  0.0376     0.3108        630        0.2923         \n",
       "9  0.0756     0.3108        630        0.2923         \n",
       "10     NA     0.3108        630        0.2923         "
      ]
     },
     "metadata": {},
     "output_type": "display_data"
    },
    {
     "data": {
      "text/html": [
       "<table class=\"dataframe\">\n",
       "<caption>A data.frame: 2 × 10</caption>\n",
       "<thead>\n",
       "\t<tr><th></th><th scope=col>county</th><th scope=col>state</th><th scope=col>county_fips</th><th scope=col>period</th><th scope=col>unemp_rate</th><th scope=col>renter_rate</th><th scope=col>evict_rate</th><th scope=col>nonwhite_rate</th><th scope=col>r_totalgap</th><th scope=col>r_totalgap_rate</th></tr>\n",
       "\t<tr><th></th><th scope=col>&lt;chr&gt;</th><th scope=col>&lt;chr&gt;</th><th scope=col>&lt;int&gt;</th><th scope=col>&lt;chr&gt;</th><th scope=col>&lt;dbl&gt;</th><th scope=col>&lt;dbl&gt;</th><th scope=col>&lt;dbl&gt;</th><th scope=col>&lt;dbl&gt;</th><th scope=col>&lt;int&gt;</th><th scope=col>&lt;dbl&gt;</th></tr>\n",
       "</thead>\n",
       "<tbody>\n",
       "\t<tr><th scope=row>1</th><td>Abbeville County</td><td>South Carolina</td><td>45001</td><td>2008-2012</td><td>0.1178</td><td>0.2232</td><td>0.0095</td><td>0.3090</td><td>340</td><td>0.1542</td></tr>\n",
       "\t<tr><th scope=row>2</th><td>Abbeville County</td><td>South Carolina</td><td>45001</td><td>2013-2017</td><td>0.0688</td><td>0.2295</td><td>0.0418</td><td>0.3108</td><td>630</td><td>0.2923</td></tr>\n",
       "</tbody>\n",
       "</table>\n"
      ],
      "text/latex": [
       "A data.frame: 2 × 10\n",
       "\\begin{tabular}{r|llllllllll}\n",
       "  & county & state & county\\_fips & period & unemp\\_rate & renter\\_rate & evict\\_rate & nonwhite\\_rate & r\\_totalgap & r\\_totalgap\\_rate\\\\\n",
       "  & <chr> & <chr> & <int> & <chr> & <dbl> & <dbl> & <dbl> & <dbl> & <int> & <dbl>\\\\\n",
       "\\hline\n",
       "\t1 & Abbeville County & South Carolina & 45001 & 2008-2012 & 0.1178 & 0.2232 & 0.0095 & 0.3090 & 340 & 0.1542\\\\\n",
       "\t2 & Abbeville County & South Carolina & 45001 & 2013-2017 & 0.0688 & 0.2295 & 0.0418 & 0.3108 & 630 & 0.2923\\\\\n",
       "\\end{tabular}\n"
      ],
      "text/markdown": [
       "\n",
       "A data.frame: 2 × 10\n",
       "\n",
       "| <!--/--> | county &lt;chr&gt; | state &lt;chr&gt; | county_fips &lt;int&gt; | period &lt;chr&gt; | unemp_rate &lt;dbl&gt; | renter_rate &lt;dbl&gt; | evict_rate &lt;dbl&gt; | nonwhite_rate &lt;dbl&gt; | r_totalgap &lt;int&gt; | r_totalgap_rate &lt;dbl&gt; |\n",
       "|---|---|---|---|---|---|---|---|---|---|---|\n",
       "| 1 | Abbeville County | South Carolina | 45001 | 2008-2012 | 0.1178 | 0.2232 | 0.0095 | 0.3090 | 340 | 0.1542 |\n",
       "| 2 | Abbeville County | South Carolina | 45001 | 2013-2017 | 0.0688 | 0.2295 | 0.0418 | 0.3108 | 630 | 0.2923 |\n",
       "\n"
      ],
      "text/plain": [
       "  county           state          county_fips period    unemp_rate renter_rate\n",
       "1 Abbeville County South Carolina 45001       2008-2012 0.1178     0.2232     \n",
       "2 Abbeville County South Carolina 45001       2013-2017 0.0688     0.2295     \n",
       "  evict_rate nonwhite_rate r_totalgap r_totalgap_rate\n",
       "1 0.0095     0.3090        340        0.1542         \n",
       "2 0.0418     0.3108        630        0.2923         "
      ]
     },
     "metadata": {},
     "output_type": "display_data"
    }
   ],
   "source": [
    "alldata1yr <-read.csv(\"https://raw.githubusercontent.com/MasonPutt/4E-Capstone-Project/main/alldata1yr.csv\")\n",
    "alldata5yr <-read.csv(\"https://raw.githubusercontent.com/MasonPutt/4E-Capstone-Project/main/alldata5yr.csv\")\n",
    "\n",
    "head(alldata1yr[c(1,2,4,5,6,7,8,9,13,14)],10)\n",
    "head(alldata5yr[c(1,2,4,5,6,7,8,9,13,14)],2)"
   ]
  },
  {
   "cell_type": "markdown",
   "metadata": {},
   "source": [
    "### Modeling"
   ]
  },
  {
   "cell_type": "code",
   "execution_count": 5,
   "metadata": {},
   "outputs": [
    {
     "name": "stdout",
     "output_type": "stream",
     "text": [
      "\n",
      "==============================================================\n",
      "                                   Dependent variable:        \n",
      "                           -----------------------------------\n",
      "                                       evict_rate             \n",
      "                                  (1)               (2)       \n",
      "--------------------------------------------------------------\n",
      "r_totalgap_rate                0.079***          0.028***     \n",
      "                                (0.009)           (0.008)     \n",
      "                                                              \n",
      "unemp_rate                     0.098***          0.083***     \n",
      "                                (0.022)           (0.021)     \n",
      "                                                              \n",
      "metro                                            0.012***     \n",
      "                                                  (0.001)     \n",
      "                                                              \n",
      "nonwhite_rate                                    0.010***     \n",
      "                                                  (0.001)     \n",
      "                                                              \n",
      "r_totalgap_rate:unemp_rate      -0.177             0.080      \n",
      "                                (0.116)           (0.110)     \n",
      "                                                              \n",
      "--------------------------------------------------------------\n",
      "Observations                     5,214             5,214      \n",
      "R2                               0.095             0.188      \n",
      "Adjusted R2                      0.094             0.187      \n",
      "Residual Std. Error        0.018 (df = 5209) 0.017 (df = 5207)\n",
      "==============================================================\n",
      "Note:                              *p<0.1; **p<0.05; ***p<0.01\n"
     ]
    }
   ],
   "source": [
    "library(lfe)\n",
    "library(stargazer)\n",
    "base <- felm(evict_rate ~ r_totalgap_rate+unemp_rate+r_totalgap_rate*unemp_rate | period, data=alldata5yr)\n",
    "base_controls <- felm(evict_rate ~ r_totalgap_rate+unemp_rate+r_totalgap_rate*unemp_rate+metro+low_educ+nonwhite_rate| period, data=alldata5yr)\n",
    "suppressMessages(stargazer(base, base_controls, type=\"text\"))"
   ]
  },
  {
   "cell_type": "markdown",
   "metadata": {},
   "source": [
    "### Model Evaluation"
   ]
  },
  {
   "cell_type": "markdown",
   "metadata": {},
   "source": [
    "(Describe choice of methods, performance, choice of final model, assumptions of each model)"
   ]
  },
  {
   "cell_type": "markdown",
   "metadata": {},
   "source": [
    "### Data Visualization"
   ]
  },
  {
   "cell_type": "markdown",
   "metadata": {},
   "source": [
    "(Heatmaps of affordability gaps / projected risks, interactive dashboard of afforadbility bar charts)"
   ]
  }
 ],
 "metadata": {
  "kernelspec": {
   "display_name": "R 4.0",
   "language": "R",
   "name": "ir40"
  },
  "language_info": {
   "codemirror_mode": "r",
   "file_extension": ".r",
   "mimetype": "text/x-r-source",
   "name": "R",
   "pygments_lexer": "r",
   "version": "4.0.3"
  }
 },
 "nbformat": 4,
 "nbformat_minor": 4
}
